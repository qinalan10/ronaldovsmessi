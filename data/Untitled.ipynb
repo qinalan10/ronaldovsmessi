{
 "cells": [
  {
   "cell_type": "code",
   "execution_count": 1,
   "id": "e118d0dc-4784-4545-ae20-f1c2987e0795",
   "metadata": {},
   "outputs": [],
   "source": [
    "def closure(s, fds):\n",
    "    c = s\n",
    "    for f in fds:\n",
    "        l, r = f[0], f[1]\n",
    "        if l.issubset(c):\n",
    "            c = c.union(r)\n",
    "    if s != c:\n",
    "        c = closure(c, fds)\n",
    "    return c\n",
    "\n",
    "def is_superkey(s, rel, fds):\n",
    "    c = closure(s, fds)\n",
    "    print(f'({\"\".join(sorted(s))})+ = {\"\".join(sorted(c))}')\n",
    "    return c == rel"
   ]
  },
  {
   "cell_type": "code",
   "execution_count": 2,
   "id": "d23bfe6c-607e-4eb2-8c46-e4cc54d847bb",
   "metadata": {},
   "outputs": [],
   "source": [
    "def is_in_BCNF(rel, fds):\n",
    "   for fd in fds:\n",
    "      l, r = fd[0], fd[1]\n",
    "      isk = is_superkey(l, rel, fds)\n",
    "      print(f'For the Functional Dependency {\"\".join(sorted(l))} -> {\"\".join(sorted(r))}, ' +\\\n",
    "                  f'{\"\".join(sorted(l))} {\"is\" if isk else \"is not\"} a superkey')\n",
    "      if not isk:\n",
    "         print('=> R not in BCNF!')\n",
    "         return False\n",
    "   print('=> R in BCNF!')  \n",
    "   return True "
   ]
  },
  {
   "cell_type": "code",
   "execution_count": 3,
   "id": "6b86854d-eb71-42d0-8098-26e2961ff50a",
   "metadata": {},
   "outputs": [],
   "source": [
    "import re\n",
    "\n",
    "def process_fds(fds):\n",
    "    pfds = []\n",
    "    for fd in fds:\n",
    "        fd = re.sub('\\s+', '', fd)\n",
    "        l, r = fd.split('->')\n",
    "        pfds.append([set(list(l)), set(list(r))])\n",
    "    return pfds"
   ]
  },
  {
   "cell_type": "code",
   "execution_count": 4,
   "id": "cff3e9c1-aab0-4489-9b3a-f4826e80c522",
   "metadata": {},
   "outputs": [
    {
     "name": "stdout",
     "output_type": "stream",
     "text": [
      "(BD)+ = ABCD\n",
      "For the Functional Dependency BD -> C, BD is a superkey\n",
      "(BC)+ = ABCD\n",
      "For the Functional Dependency BC -> D, BC is a superkey\n",
      "(CD)+ = ABCD\n",
      "For the Functional Dependency CD -> AB, CD is a superkey\n",
      "=> R in BCNF!\n"
     ]
    },
    {
     "data": {
      "text/plain": [
       "True"
      ]
     },
     "execution_count": 4,
     "metadata": {},
     "output_type": "execute_result"
    }
   ],
   "source": [
    "relation = {'A','B','C','D'}\n",
    "fds = process_fds(['BD->C','BC->D','CD->AB'])\n",
    "is_in_BCNF(relation, fds)\n",
    "\n",
    "# (UVW)+ = UVWXYZ\n",
    "# For the Functional Dependency UVW -> X, UVW is a superkey\n",
    "# (VW)+ = UVWXYZ\n",
    "# For the Functional Dependency VW -> UY, VW is a superkey\n",
    "# (VWY)+ = UVWXYZ\n",
    "# For the Functional Dependency VWY -> Z, VWY is a superkey\n",
    "# => R in BCNF!\n",
    "\n",
    "# relation = {'A','B','C'}\n",
    "# fds = process_fds(['A -> BC', 'B -> A'])\n",
    "# is_in_BCNF(relation, fds)\n",
    "\n",
    "# (A)+ = ABC\n",
    "# For the Functional Dependency A -> BC, A is a superkey\n",
    "# (B)+ = ABC\n",
    "# For the Functional Dependency B -> A, B is a superkey\n",
    "# => R in BCNF!"
   ]
  }
 ],
 "metadata": {
  "kernelspec": {
   "display_name": "Python 3 (ipykernel)",
   "language": "python",
   "name": "python3"
  },
  "language_info": {
   "codemirror_mode": {
    "name": "ipython",
    "version": 3
   },
   "file_extension": ".py",
   "mimetype": "text/x-python",
   "name": "python",
   "nbconvert_exporter": "python",
   "pygments_lexer": "ipython3",
   "version": "3.11.3"
  }
 },
 "nbformat": 4,
 "nbformat_minor": 5
}
